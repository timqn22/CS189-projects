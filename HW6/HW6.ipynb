{
 "cells": [
  {
   "cell_type": "markdown",
   "id": "463ea54b-f758-4bb1-9d49-3e9044b86a6b",
   "metadata": {},
   "source": [
    "# CS189 HW6\n",
    "Timothy Quang Nguyen\n",
    "\n",
    "timotqn2@uci.edu"
   ]
  },
  {
   "cell_type": "markdown",
   "id": "54131980-7990-4b72-8b36-611f58309f2b",
   "metadata": {},
   "source": [
    "## Environment Setup"
   ]
  },
  {
   "cell_type": "code",
   "execution_count": 1,
   "id": "236f8bb5-4c0b-4653-a43a-016dcdd35e66",
   "metadata": {},
   "outputs": [],
   "source": [
    "# Task: Predict the Baseline histological staging (multi-class classification)\n",
    "\n",
    "import numpy as np # for data organization\n",
    "import pandas as pd # for data organization\n",
    "\n",
    "import sklearn as sk # for machine learning\n",
    "from sklearn.metrics import confusion_matrix, precision_score, recall_score, f1_score, accuracy_score # For Evaluation\n",
    "from sklearn.preprocessing import MinMaxScaler # To Scale Features\n",
    "from sklearn.preprocessing import OneHotEncoder # To Encode Non-Numeric Columns\n",
    "from sklearn.model_selection import GridSearchCV, train_test_split # For Hyper Parameter Tuning and Data Splitting\n",
    "from skopt import BayesSearchCV # For Smart Hyper Parameter Tuning\n",
    "\n",
    "from sklearn.linear_model import LogisticRegression # For Logistic Regression\n",
    "from sklearn.ensemble import RandomForestClassifier # For Random Forest Classifier\n",
    "from sklearn.svm import SVC # For Support Vector Classifier\n",
    "from xgboost import XGBClassifier # For XGB Classifier\n",
    "\n",
    "import matplotlib.pyplot as plt # for plotting\n",
    "import seaborn as sns # for plotting"
   ]
  },
  {
   "cell_type": "code",
   "execution_count": 2,
   "id": "0e58315c-297d-468a-aec0-6bd3b56602cf",
   "metadata": {},
   "outputs": [
    {
     "name": "stdout",
     "output_type": "stream",
     "text": [
      "{'uci_id': 503, 'name': 'Hepatitis C Virus (HCV) for Egyptian patients', 'repository_url': 'https://archive.ics.uci.edu/dataset/503/hepatitis+c+virus+hcv+for+egyptian+patients', 'data_url': 'https://archive.ics.uci.edu/static/public/503/data.csv', 'abstract': 'Egyptian patients who underwent treatment dosages for HCV about 18 months. Discretization should be applied based on expert recommendations; there is an attached file shows how.', 'area': 'Health and Medicine', 'tasks': ['Classification'], 'characteristics': ['Multivariate'], 'num_instances': 1385, 'num_features': 28, 'feature_types': ['Real'], 'demographics': ['Age', 'Gender'], 'target_col': ['Baselinehistological staging'], 'index_col': None, 'has_missing_values': 'no', 'missing_values_symbol': None, 'year_of_dataset_creation': 2017, 'last_updated': 'Tue Apr 09 2024', 'dataset_doi': '10.24432/C5989V', 'creators': ['Sanaa Kamal', 'Mohamed ElEleimy', 'Doaa Hegazy', 'Mahmoud Nasr'], 'intro_paper': {'ID': 232, 'type': 'NATIVE', 'title': 'A novel model based on non invasive methods for prediction of liver fibrosis', 'authors': 'Mahmoud Nasr, Khaled El-Bahnasy, M. Hamdy, S. Kamal', 'venue': 'International Computer Engineering Conference', 'year': 2017, 'journal': None, 'DOI': None, 'URL': 'https://www.semanticscholar.org/paper/A-novel-model-based-on-non-invasive-methods-for-of-Nasr-El-Bahnasy/b2ba7e8525c5c00b5f95166aedd8c19278516bea', 'sha': None, 'corpus': None, 'arxiv': None, 'mag': None, 'acl': None, 'pmid': None, 'pmcid': None}, 'additional_info': {'summary': None, 'purpose': None, 'funded_by': None, 'instances_represent': None, 'recommended_data_splits': None, 'sensitive_data': None, 'preprocessing_description': None, 'variable_info': 'Age\\tAge\\r\\nGender\\tGender\\r\\nBMI\\tBody Mass Index\\r\\nFever\\tFever\\r\\nNausea/Vomting\\tNausea/Vomting\\r\\nHeadache\\tHeadache\\r\\nDiarrhea\\tDiarrhea\\r\\nFatigue & generalized bone ache\\tFatigue & generalized bone ache\\r\\nJaundice\\tJaundice\\r\\nEpigastric pain\\tEpigastric pain\\r\\nWBC\\tWhite blood cell\\r\\nRBC\\tred blood cells\\r\\nHGB\\tHemoglobin\\r\\nPlat\\tPlatelets\\r\\nAST 1\\taspartate transaminase ratio\\r\\nALT 1\\talanine transaminase ratio 1 week\\r\\nALT 4\\talanine transaminase ratio 12 weeks\\r\\nALT 12\\talanine transaminase ratio 4 weeks\\r\\nALT 24\\talanine transaminase ratio 24 weeks\\r\\nALT 36\\talanine transaminase ratio 36 weeks\\r\\nALT 48\\talanine transaminase ratio 48 weeks\\r\\nALT after 24 w\\talanine transaminase ratio 24 weeks\\r\\nRNA Base\\tRNA Base\\r\\nRNA 4\\tRNA 4\\r\\nRNA 12\\tRNA 12\\r\\nRNA EOT\\tRNA end-of-treatment \\r\\nRNA EF\\tRNA Elongation Factor\\r\\nBaseline histological Grading\\tBaseline histological Grading\\r\\nBaselinehistological staging\\tBaselinehistological staging', 'citation': None}}\n",
      "                                name     role         type demographic  \\\n",
      "0                               Age   Feature      Integer         Age   \n",
      "1                             Gender  Feature       Binary      Gender   \n",
      "2                                BMI  Feature      Integer        None   \n",
      "3                              Fever  Feature       Binary        None   \n",
      "4                     Nausea/Vomting  Feature       Binary        None   \n",
      "5                          Headache   Feature       Binary        None   \n",
      "6                          Diarrhea   Feature       Binary        None   \n",
      "7   Fatigue & generalized bone ache   Feature       Binary        None   \n",
      "8                          Jaundice   Feature       Binary        None   \n",
      "9                   Epigastric pain   Feature       Binary        None   \n",
      "10                               WBC  Feature      Integer        None   \n",
      "11                               RBC  Feature      Integer        None   \n",
      "12                               HGB  Feature      Integer        None   \n",
      "13                              Plat  Feature      Integer        None   \n",
      "14                             AST 1  Feature      Integer        None   \n",
      "15                             ALT 1  Feature      Integer        None   \n",
      "16                              ALT4  Feature      Integer        None   \n",
      "17                            ALT 12  Feature      Integer        None   \n",
      "18                            ALT 24  Feature      Integer        None   \n",
      "19                            ALT 36  Feature      Integer        None   \n",
      "20                            ALT 48  Feature      Integer        None   \n",
      "21                    ALT after 24 w  Feature      Integer        None   \n",
      "22                          RNA Base  Feature      Integer        None   \n",
      "23                             RNA 4  Feature      Integer        None   \n",
      "24                            RNA 12  Feature      Integer        None   \n",
      "25                           RNA EOT  Feature      Integer        None   \n",
      "26                            RNA EF  Feature      Integer        None   \n",
      "27     Baseline histological Grading  Feature  Categorical        None   \n",
      "28      Baselinehistological staging   Target  Categorical        None   \n",
      "\n",
      "                                          description units missing_values  \n",
      "0                                                None  None             no  \n",
      "1                                    [Male], [Female]  None             no  \n",
      "2                                     Body Mass Index  None             no  \n",
      "3                                 [Absent], [Present]  None             no  \n",
      "4                                 [Absent], [Present]  None             no  \n",
      "5                                 [Absent], [Present]  None             no  \n",
      "6                                 [Absent], [Present]  None             no  \n",
      "7                                 [Absent], [Present]  None             no  \n",
      "8                                 [Absent], [Present]  None             no  \n",
      "9                                 [Absent], [Present]  None             no  \n",
      "10                                  White blood cells  None             no  \n",
      "11                                    Red blood cells  None             no  \n",
      "12                                         Hemoglobin  None             no  \n",
      "13                                          Platelets  None             no  \n",
      "14                       aspartate transaminase ratio  None             no  \n",
      "15                  alanine transaminase ratio 1 week  None             no  \n",
      "16                 alanine transaminase ratio 4 weeks  None             no  \n",
      "17                alanine transaminase ratio 12 weeks  None             no  \n",
      "18                alanine transaminase ratio 24 weeks  None             no  \n",
      "19                alanine transaminase ratio 36 weeks  None             no  \n",
      "20                alanine transaminase ratio 48 weeks  None             no  \n",
      "21  after 24 warnings alanine transaminase ratio 2...  None             no  \n",
      "22                                               None  None             no  \n",
      "23                                               None  None             no  \n",
      "24                                               None  None             no  \n",
      "25                               RNA end-of-treatment  None             no  \n",
      "26                              RNA Elongation Factor  None             no  \n",
      "27                                               None  None             no  \n",
      "28                                               None  None             no  \n"
     ]
    }
   ],
   "source": [
    "from ucimlrepo import fetch_ucirepo \n",
    "  \n",
    "# fetch dataset \n",
    "hepatitis_c_virus_hcv_for_egyptian_patients = fetch_ucirepo(id=503) \n",
    "  \n",
    "# data (as pandas dataframes) \n",
    "X = hepatitis_c_virus_hcv_for_egyptian_patients.data.features \n",
    "y = hepatitis_c_virus_hcv_for_egyptian_patients.data.targets \n",
    "  \n",
    "# metadata \n",
    "print(hepatitis_c_virus_hcv_for_egyptian_patients.metadata) \n",
    "  \n",
    "# variable information \n",
    "print(hepatitis_c_virus_hcv_for_egyptian_patients.variables) "
   ]
  },
  {
   "cell_type": "markdown",
   "id": "0afbd371-e0c4-4b19-a4a4-cf0e4f71a50e",
   "metadata": {},
   "source": [
    "## Function Declarations"
   ]
  },
  {
   "cell_type": "code",
   "execution_count": null,
   "id": "913dfed7-6c87-4914-8259-19772b78ab17",
   "metadata": {},
   "outputs": [],
   "source": [
    "def evaluate_model(y_true, y_pred, label_nums, label_names):\n",
    "    \"\"\"\n",
    "    Comprehensive evaluation for classification models.\n",
    "    \n",
    "    Parameters:\n",
    "        y_true: True labels\n",
    "        y_pred: Predicted labels\n",
    "        label_nums: Numeric form of labels\n",
    "        label_names: Name of labels\n",
    "    \"\"\"\n",
    "    \n",
    "    # Confusion Matrix\n",
    "    cm = confusion_matrix(y_true, y_pred, labels=label_nums)\n",
    "    \n",
    "    plt.figure(figsize=(8, 6))\n",
    "    sns.heatmap(cm, annot=True, fmt=\"d\", cmap=\"Blues\", xticklabels=label_names, yticklabels=label_names)\n",
    "    plt.xlabel(\"Predicted\")\n",
    "    plt.ylabel(\"True\")\n",
    "    plt.title(\"Confusion Matrix\")\n",
    "    plt.show()\n",
    "    \n",
    "    metrics = {\n",
    "        'Accuracy': accuracy_score(y_true, y_pred),\n",
    "        'Precision': precision_score(y_true, y_pred, average=\"macro\"),\n",
    "        'Recall': recall_score(y_true, y_pred, average=\"macro\"),\n",
    "        'F1 Score': f1_score(y_true, y_pred, average=\"macro\")\n",
    "    }\n",
    "\n",
    "    # Print formatted metrics\n",
    "    print(\"METRICS\")\n",
    "    print(\"=\"*40)\n",
    "    for name, value in metrics.items():\n",
    "        print(f'name:\\t')"
   ]
  }
 ],
 "metadata": {
  "kernelspec": {
   "display_name": "Python 3 (ipykernel)",
   "language": "python",
   "name": "python3"
  },
  "language_info": {
   "codemirror_mode": {
    "name": "ipython",
    "version": 3
   },
   "file_extension": ".py",
   "mimetype": "text/x-python",
   "name": "python",
   "nbconvert_exporter": "python",
   "pygments_lexer": "ipython3",
   "version": "3.12.9"
  }
 },
 "nbformat": 4,
 "nbformat_minor": 5
}
